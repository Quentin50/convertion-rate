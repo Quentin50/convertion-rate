{
 "cells": [
  {
   "cell_type": "markdown",
   "metadata": {},
   "source": [
    "<img src=\"data:image/png;base64,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\" alt=\"DSW LOGO\" />"
   ]
  },
  {
   "cell_type": "markdown",
   "metadata": {
    "colab_type": "text",
    "id": "0eiKSLYG8XvO"
   },
   "source": [
    "# Challenge : predict conversions 🏆🏆\n",
    "\n",
    "The goal of this challenge is to get the best f1-score ! May the force be with you 🧨🧨  "
   ]
  },
  {
   "cell_type": "markdown",
   "metadata": {},
   "source": [
    "# Import libraries"
   ]
  },
  {
   "cell_type": "code",
   "execution_count": 1,
   "metadata": {
    "colab": {},
    "colab_type": "code",
    "id": "AGhdl7Bt2xZd"
   },
   "outputs": [
    {
     "name": "stdout",
     "output_type": "stream",
     "text": [
      "Requirement already satisfied: xgboost in /opt/conda/lib/python3.9/site-packages (1.6.1)\n",
      "Requirement already satisfied: scipy in /opt/conda/lib/python3.9/site-packages (from xgboost) (1.7.3)\n",
      "Requirement already satisfied: numpy in /opt/conda/lib/python3.9/site-packages (from xgboost) (1.21.5)\n"
     ]
    }
   ],
   "source": [
    "import pandas as pd\n",
    "import numpy as np\n",
    "import math\n",
    "\n",
    "from sklearn.model_selection import train_test_split, GridSearchCV\n",
    "from sklearn.impute import SimpleImputer\n",
    "from sklearn.preprocessing import StandardScaler, OneHotEncoder\n",
    "from sklearn.compose import ColumnTransformer\n",
    "from sklearn.linear_model import LogisticRegression\n",
    "from sklearn.metrics import f1_score, confusion_matrix, precision_score, recall_score, ConfusionMatrixDisplay, RocCurveDisplay\n",
    "from sklearn.pipeline import Pipeline\n",
    "from sklearn.tree import DecisionTreeClassifier\n",
    "from sklearn.ensemble import RandomForestClassifier, AdaBoostClassifier, VotingClassifier\n",
    "from sklearn.svm import SVC\n",
    "\n",
    "!pip install xgboost\n",
    "from xgboost import XGBClassifier\n",
    "\n",
    "import matplotlib.pyplot as plt\n",
    "import seaborn as sns\n",
    "import plotly.express as px\n",
    "import plotly.graph_objects as go\n",
    "import plotly.io as pio\n",
    "# setting Jedha color palette as default\n",
    "pio.templates[\"jedha\"] = go.layout.Template(\n",
    "    layout_colorway=[\"#4B9AC7\", \"#4BE8E0\", \"#9DD4F3\", \"#97FBF6\", \"#2A7FAF\", \"#23B1AB\", \"#0E3449\", \"#015955\"]\n",
    ")\n",
    "pio.templates.default = \"jedha\"\n",
    "pio.renderers.default = \"iframe\"\n",
    "from IPython.display import display"
   ]
  },
  {
   "cell_type": "markdown",
   "metadata": {
    "colab_type": "text",
    "id": "LHgro65rxKF7",
    "tags": []
   },
   "source": [
    "# Read file with labels"
   ]
  },
  {
   "cell_type": "code",
   "execution_count": 2,
   "metadata": {
    "colab": {
     "base_uri": "https://localhost:8080/",
     "height": 34
    },
    "colab_type": "code",
    "id": "W1AU8AH8u0qd",
    "outputId": "00698a97-027b-493b-a2e4-33fdcc295abb"
   },
   "outputs": [
    {
     "name": "stdout",
     "output_type": "stream",
     "text": [
      "Set with labels (our train+test) : (284580, 6)\n"
     ]
    }
   ],
   "source": [
    "data = pd.read_csv('conversion_data_train.csv')\n",
    "# Count rows\n",
    "print('Set with labels (our train+test) :', data.shape)"
   ]
  },
  {
   "cell_type": "code",
   "execution_count": 3,
   "metadata": {},
   "outputs": [
    {
     "data": {
      "text/html": [
       "<div>\n",
       "<style scoped>\n",
       "    .dataframe tbody tr th:only-of-type {\n",
       "        vertical-align: middle;\n",
       "    }\n",
       "\n",
       "    .dataframe tbody tr th {\n",
       "        vertical-align: top;\n",
       "    }\n",
       "\n",
       "    .dataframe thead th {\n",
       "        text-align: right;\n",
       "    }\n",
       "</style>\n",
       "<table border=\"1\" class=\"dataframe\">\n",
       "  <thead>\n",
       "    <tr style=\"text-align: right;\">\n",
       "      <th></th>\n",
       "      <th>country</th>\n",
       "      <th>age</th>\n",
       "      <th>new_user</th>\n",
       "      <th>source</th>\n",
       "      <th>total_pages_visited</th>\n",
       "      <th>converted</th>\n",
       "    </tr>\n",
       "  </thead>\n",
       "  <tbody>\n",
       "    <tr>\n",
       "      <th>0</th>\n",
       "      <td>China</td>\n",
       "      <td>22</td>\n",
       "      <td>1</td>\n",
       "      <td>Direct</td>\n",
       "      <td>2</td>\n",
       "      <td>0</td>\n",
       "    </tr>\n",
       "    <tr>\n",
       "      <th>1</th>\n",
       "      <td>UK</td>\n",
       "      <td>21</td>\n",
       "      <td>1</td>\n",
       "      <td>Ads</td>\n",
       "      <td>3</td>\n",
       "      <td>0</td>\n",
       "    </tr>\n",
       "    <tr>\n",
       "      <th>2</th>\n",
       "      <td>Germany</td>\n",
       "      <td>20</td>\n",
       "      <td>0</td>\n",
       "      <td>Seo</td>\n",
       "      <td>14</td>\n",
       "      <td>1</td>\n",
       "    </tr>\n",
       "    <tr>\n",
       "      <th>3</th>\n",
       "      <td>US</td>\n",
       "      <td>23</td>\n",
       "      <td>1</td>\n",
       "      <td>Seo</td>\n",
       "      <td>3</td>\n",
       "      <td>0</td>\n",
       "    </tr>\n",
       "    <tr>\n",
       "      <th>4</th>\n",
       "      <td>US</td>\n",
       "      <td>28</td>\n",
       "      <td>1</td>\n",
       "      <td>Direct</td>\n",
       "      <td>3</td>\n",
       "      <td>0</td>\n",
       "    </tr>\n",
       "  </tbody>\n",
       "</table>\n",
       "</div>"
      ],
      "text/plain": [
       "   country  age  new_user  source  total_pages_visited  converted\n",
       "0    China   22         1  Direct                    2          0\n",
       "1       UK   21         1     Ads                    3          0\n",
       "2  Germany   20         0     Seo                   14          1\n",
       "3       US   23         1     Seo                    3          0\n",
       "4       US   28         1  Direct                    3          0"
      ]
     },
     "execution_count": 3,
     "metadata": {},
     "output_type": "execute_result"
    }
   ],
   "source": [
    "data.head()"
   ]
  },
  {
   "cell_type": "markdown",
   "metadata": {
    "colab_type": "text",
    "id": "0XwjKBc63B1n"
   },
   "source": [
    "# Explore dataset\n"
   ]
  },
  {
   "cell_type": "markdown",
   "metadata": {},
   "source": [
    "##### Searching for missing values: no missing values!"
   ]
  },
  {
   "cell_type": "code",
   "execution_count": 4,
   "metadata": {},
   "outputs": [
    {
     "name": "stdout",
     "output_type": "stream",
     "text": [
      "<class 'pandas.core.frame.DataFrame'>\n",
      "RangeIndex: 284580 entries, 0 to 284579\n",
      "Data columns (total 6 columns):\n",
      " #   Column               Non-Null Count   Dtype \n",
      "---  ------               --------------   ----- \n",
      " 0   country              284580 non-null  object\n",
      " 1   age                  284580 non-null  int64 \n",
      " 2   new_user             284580 non-null  int64 \n",
      " 3   source               284580 non-null  object\n",
      " 4   total_pages_visited  284580 non-null  int64 \n",
      " 5   converted            284580 non-null  int64 \n",
      "dtypes: int64(4), object(2)\n",
      "memory usage: 13.0+ MB\n"
     ]
    }
   ],
   "source": [
    "# Visualize missing values\n",
    "data.info()"
   ]
  },
  {
   "cell_type": "markdown",
   "metadata": {},
   "source": [
    "##### Short description of the data"
   ]
  },
  {
   "cell_type": "code",
   "execution_count": 5,
   "metadata": {},
   "outputs": [
    {
     "data": {
      "text/html": [
       "<div>\n",
       "<style scoped>\n",
       "    .dataframe tbody tr th:only-of-type {\n",
       "        vertical-align: middle;\n",
       "    }\n",
       "\n",
       "    .dataframe tbody tr th {\n",
       "        vertical-align: top;\n",
       "    }\n",
       "\n",
       "    .dataframe thead th {\n",
       "        text-align: right;\n",
       "    }\n",
       "</style>\n",
       "<table border=\"1\" class=\"dataframe\">\n",
       "  <thead>\n",
       "    <tr style=\"text-align: right;\">\n",
       "      <th></th>\n",
       "      <th>country</th>\n",
       "      <th>age</th>\n",
       "      <th>new_user</th>\n",
       "      <th>source</th>\n",
       "      <th>total_pages_visited</th>\n",
       "      <th>converted</th>\n",
       "    </tr>\n",
       "  </thead>\n",
       "  <tbody>\n",
       "    <tr>\n",
       "      <th>count</th>\n",
       "      <td>284580</td>\n",
       "      <td>284580.000000</td>\n",
       "      <td>284580.000000</td>\n",
       "      <td>284580</td>\n",
       "      <td>284580.000000</td>\n",
       "      <td>284580.000000</td>\n",
       "    </tr>\n",
       "    <tr>\n",
       "      <th>unique</th>\n",
       "      <td>4</td>\n",
       "      <td>NaN</td>\n",
       "      <td>NaN</td>\n",
       "      <td>3</td>\n",
       "      <td>NaN</td>\n",
       "      <td>NaN</td>\n",
       "    </tr>\n",
       "    <tr>\n",
       "      <th>top</th>\n",
       "      <td>US</td>\n",
       "      <td>NaN</td>\n",
       "      <td>NaN</td>\n",
       "      <td>Seo</td>\n",
       "      <td>NaN</td>\n",
       "      <td>NaN</td>\n",
       "    </tr>\n",
       "    <tr>\n",
       "      <th>freq</th>\n",
       "      <td>160124</td>\n",
       "      <td>NaN</td>\n",
       "      <td>NaN</td>\n",
       "      <td>139477</td>\n",
       "      <td>NaN</td>\n",
       "      <td>NaN</td>\n",
       "    </tr>\n",
       "    <tr>\n",
       "      <th>mean</th>\n",
       "      <td>NaN</td>\n",
       "      <td>30.564203</td>\n",
       "      <td>0.685452</td>\n",
       "      <td>NaN</td>\n",
       "      <td>4.873252</td>\n",
       "      <td>0.032258</td>\n",
       "    </tr>\n",
       "    <tr>\n",
       "      <th>std</th>\n",
       "      <td>NaN</td>\n",
       "      <td>8.266789</td>\n",
       "      <td>0.464336</td>\n",
       "      <td>NaN</td>\n",
       "      <td>3.341995</td>\n",
       "      <td>0.176685</td>\n",
       "    </tr>\n",
       "    <tr>\n",
       "      <th>min</th>\n",
       "      <td>NaN</td>\n",
       "      <td>17.000000</td>\n",
       "      <td>0.000000</td>\n",
       "      <td>NaN</td>\n",
       "      <td>1.000000</td>\n",
       "      <td>0.000000</td>\n",
       "    </tr>\n",
       "    <tr>\n",
       "      <th>25%</th>\n",
       "      <td>NaN</td>\n",
       "      <td>24.000000</td>\n",
       "      <td>0.000000</td>\n",
       "      <td>NaN</td>\n",
       "      <td>2.000000</td>\n",
       "      <td>0.000000</td>\n",
       "    </tr>\n",
       "    <tr>\n",
       "      <th>50%</th>\n",
       "      <td>NaN</td>\n",
       "      <td>30.000000</td>\n",
       "      <td>1.000000</td>\n",
       "      <td>NaN</td>\n",
       "      <td>4.000000</td>\n",
       "      <td>0.000000</td>\n",
       "    </tr>\n",
       "    <tr>\n",
       "      <th>75%</th>\n",
       "      <td>NaN</td>\n",
       "      <td>36.000000</td>\n",
       "      <td>1.000000</td>\n",
       "      <td>NaN</td>\n",
       "      <td>7.000000</td>\n",
       "      <td>0.000000</td>\n",
       "    </tr>\n",
       "    <tr>\n",
       "      <th>max</th>\n",
       "      <td>NaN</td>\n",
       "      <td>123.000000</td>\n",
       "      <td>1.000000</td>\n",
       "      <td>NaN</td>\n",
       "      <td>29.000000</td>\n",
       "      <td>1.000000</td>\n",
       "    </tr>\n",
       "  </tbody>\n",
       "</table>\n",
       "</div>"
      ],
      "text/plain": [
       "       country            age       new_user  source  total_pages_visited  \\\n",
       "count   284580  284580.000000  284580.000000  284580        284580.000000   \n",
       "unique       4            NaN            NaN       3                  NaN   \n",
       "top         US            NaN            NaN     Seo                  NaN   \n",
       "freq    160124            NaN            NaN  139477                  NaN   \n",
       "mean       NaN      30.564203       0.685452     NaN             4.873252   \n",
       "std        NaN       8.266789       0.464336     NaN             3.341995   \n",
       "min        NaN      17.000000       0.000000     NaN             1.000000   \n",
       "25%        NaN      24.000000       0.000000     NaN             2.000000   \n",
       "50%        NaN      30.000000       1.000000     NaN             4.000000   \n",
       "75%        NaN      36.000000       1.000000     NaN             7.000000   \n",
       "max        NaN     123.000000       1.000000     NaN            29.000000   \n",
       "\n",
       "            converted  \n",
       "count   284580.000000  \n",
       "unique            NaN  \n",
       "top               NaN  \n",
       "freq              NaN  \n",
       "mean         0.032258  \n",
       "std          0.176685  \n",
       "min          0.000000  \n",
       "25%          0.000000  \n",
       "50%          0.000000  \n",
       "75%          0.000000  \n",
       "max          1.000000  "
      ]
     },
     "execution_count": 5,
     "metadata": {},
     "output_type": "execute_result"
    }
   ],
   "source": [
    "# Describe dataset\n",
    "data.describe(include=\"all\")"
   ]
  },
  {
   "cell_type": "markdown",
   "metadata": {},
   "source": [
    "##### Removing outliers to age. Also and applying a log scale in order to reduce it's range."
   ]
  },
  {
   "cell_type": "code",
   "execution_count": 6,
   "metadata": {},
   "outputs": [
    {
     "data": {
      "text/plain": [
       "<AxesSubplot:xlabel='age', ylabel='Count'>"
      ]
     },
     "execution_count": 6,
     "metadata": {},
     "output_type": "execute_result"
    },
    {
     "data": {
      "image/png": "[encoded data removed]",
      "text/plain": [
       "<Figure size 432x288 with 1 Axes>"
      ]
     },
     "metadata": {
      "needs_background": "light"
     },
     "output_type": "display_data"
    }
   ],
   "source": [
    "# Visualize people age\n",
    "sns.histplot(data.age)"
   ]
  },
  {
   "cell_type": "code",
   "execution_count": 7,
   "metadata": {},
   "outputs": [
    {
     "data": {
      "text/html": [
       "<div>\n",
       "<style scoped>\n",
       "    .dataframe tbody tr th:only-of-type {\n",
       "        vertical-align: middle;\n",
       "    }\n",
       "\n",
       "    .dataframe tbody tr th {\n",
       "        vertical-align: top;\n",
       "    }\n",
       "\n",
       "    .dataframe thead th {\n",
       "        text-align: right;\n",
       "    }\n",
       "</style>\n",
       "<table border=\"1\" class=\"dataframe\">\n",
       "  <thead>\n",
       "    <tr style=\"text-align: right;\">\n",
       "      <th></th>\n",
       "      <th>country</th>\n",
       "      <th>age</th>\n",
       "      <th>new_user</th>\n",
       "      <th>source</th>\n",
       "      <th>total_pages_visited</th>\n",
       "      <th>converted</th>\n",
       "    </tr>\n",
       "  </thead>\n",
       "  <tbody>\n",
       "    <tr>\n",
       "      <th>11331</th>\n",
       "      <td>UK</td>\n",
       "      <td>111</td>\n",
       "      <td>0</td>\n",
       "      <td>Ads</td>\n",
       "      <td>10</td>\n",
       "      <td>1</td>\n",
       "    </tr>\n",
       "    <tr>\n",
       "      <th>233196</th>\n",
       "      <td>Germany</td>\n",
       "      <td>123</td>\n",
       "      <td>0</td>\n",
       "      <td>Seo</td>\n",
       "      <td>15</td>\n",
       "      <td>1</td>\n",
       "    </tr>\n",
       "  </tbody>\n",
       "</table>\n",
       "</div>"
      ],
      "text/plain": [
       "        country  age  new_user source  total_pages_visited  converted\n",
       "11331        UK  111         0    Ads                   10          1\n",
       "233196  Germany  123         0    Seo                   15          1"
      ]
     },
     "execution_count": 7,
     "metadata": {},
     "output_type": "execute_result"
    }
   ],
   "source": [
    "# Visualize people more than 80 years old\n",
    "data[data[\"age\"] > 80]"
   ]
  },
  {
   "cell_type": "code",
   "execution_count": 8,
   "metadata": {},
   "outputs": [
    {
     "data": {
      "text/plain": [
       "<AxesSubplot:xlabel='age', ylabel='Count'>"
      ]
     },
     "execution_count": 8,
     "metadata": {},
     "output_type": "execute_result"
    },
    {
     "data": {
      "image/png": "[encoded data removed]",
      "text/plain": [
       "<Figure size 432x288 with 1 Axes>"
      ]
     },
     "metadata": {
      "needs_background": "light"
     },
     "output_type": "display_data"
    }
   ],
   "source": [
    "# Only two: remove people more than 80 years old\n",
    "data = data[data[\"age\"] <= 80]\n",
    "sns.histplot(data.age)"
   ]
  },
  {
   "cell_type": "code",
   "execution_count": 9,
   "metadata": {},
   "outputs": [
    {
     "data": {
      "text/plain": [
       "<AxesSubplot:xlabel='age_log', ylabel='Count'>"
      ]
     },
     "execution_count": 9,
     "metadata": {},
     "output_type": "execute_result"
    },
    {
     "data": {
      "image/png": "[encoded data removed]",
      "text/plain": [
       "<Figure size 432x288 with 1 Axes>"
      ]
     },
     "metadata": {
      "needs_background": "light"
     },
     "output_type": "display_data"
    }
   ],
   "source": [
    "# Create a new column with age log\n",
    "data[\"age_log\"] = data[\"age\"].apply(lambda x: math.log(x))\n",
    "\n",
    "# Visualize age log\n",
    "sns.histplot(data.age_log)"
   ]
  },
  {
   "cell_type": "markdown",
   "metadata": {},
   "source": [
    "##### In the correlation matrix we see a notable correlation between total_page_visited and our target."
   ]
  },
  {
   "cell_type": "code",
   "execution_count": 10,
   "metadata": {},
   "outputs": [
    {
     "data": {
      "text/plain": [
       "<AxesSubplot:>"
      ]
     },
     "execution_count": 10,
     "metadata": {},
     "output_type": "execute_result"
    },
    {
     "data": {
      "image/png": "[encoded data removed]",
      "text/plain": [
       "<Figure size 648x432 with 2 Axes>"
      ]
     },
     "metadata": {
      "needs_background": "light"
     },
     "output_type": "display_data"
    }
   ],
   "source": [
    "# Create correlation matrix between all columns\n",
    "corr = data[[\"age\", \"new_user\",\"total_pages_visited\",\"converted\"]].corr()\n",
    "\n",
    "# Plot correlation matrix\n",
    "f, ax = plt.subplots(figsize=(9, 6))\n",
    "sns.heatmap(corr, annot=True, ax=ax)"
   ]
  },
  {
   "cell_type": "markdown",
   "metadata": {
    "colab_type": "text",
    "id": "70MwsoCS3QD5"
   },
   "source": [
    "# Make the model"
   ]
  },
  {
   "cell_type": "markdown",
   "metadata": {
    "colab_type": "text",
    "id": "dPh1qPTf3wZU"
   },
   "source": [
    "## Choose variables to use in the model, and create train and test sets\n",
    "Here we create different variables to feed our different models."
   ]
  },
  {
   "cell_type": "code",
   "execution_count": 11,
   "metadata": {},
   "outputs": [],
   "source": [
    "target_variable = 'converted'\n",
    "\n",
    "# data 0: simple column\n",
    "features_list_0 = ['total_pages_visited']\n",
    "numeric_indices_0 = [0]\n",
    "categorical_indices_0 = []\n",
    "\n",
    "# data 1: all column\n",
    "features_list_1 = [\"country\", 'age', \"new_user\", \"source\", 'total_pages_visited']\n",
    "numeric_indices_1 = [1,4]\n",
    "categorical_indices_1 = [0,2,3]\n",
    "\n",
    "# data 2 with new features (age log)\n",
    "features_list_2 = [\"country\", 'age_log', \"new_user\", \"source\", 'total_pages_visited']\n",
    "numeric_indices_2 = [1,4]\n",
    "categorical_indices_2 = [0,2,3]"
   ]
  },
  {
   "cell_type": "code",
   "execution_count": 12,
   "metadata": {
    "colab": {
     "base_uri": "https://localhost:8080/",
     "height": 50
    },
    "colab_type": "code",
    "id": "SV5E9KMs4xcq",
    "outputId": "9d1ed76e-e82e-45e7-f3e5-6d47962caa5a"
   },
   "outputs": [
    {
     "name": "stdout",
     "output_type": "stream",
     "text": [
      "X0 explanatory variables :  Index(['total_pages_visited'], dtype='object')\n",
      "\n",
      "X1 explanatory variables :  Index(['country', 'age', 'new_user', 'source', 'total_pages_visited'], dtype='object')\n",
      "\n",
      "X2 explanatory variables :  Index(['country', 'age_log', 'new_user', 'source', 'total_pages_visited'], dtype='object')\n",
      "\n"
     ]
    }
   ],
   "source": [
    "# Create dataframes for each data\n",
    "Y = data.loc[:, target_variable]\n",
    "\n",
    "X0 = data.loc[:, features_list_0]\n",
    "print('X0 explanatory variables : ', X0.columns)\n",
    "print()\n",
    "\n",
    "X1 = data.loc[:, features_list_1]\n",
    "print('X1 explanatory variables : ', X1.columns)\n",
    "print()\n",
    "\n",
    "X2 = data.loc[:, features_list_2]\n",
    "print('X2 explanatory variables : ', X2.columns)\n",
    "print()"
   ]
  },
  {
   "cell_type": "code",
   "execution_count": 13,
   "metadata": {
    "colab": {
     "base_uri": "https://localhost:8080/",
     "height": 67
    },
    "colab_type": "code",
    "id": "W8K5DQEvvQgl",
    "outputId": "d280ebc9-4d4b-4723-b9fe-32513f898abc"
   },
   "outputs": [
    {
     "name": "stdout",
     "output_type": "stream",
     "text": [
      "Dividing into train 0 and test 0 sets...\n",
      "...Done.\n",
      "\n",
      "Dividing into train 1 and test 1 sets...\n",
      "...Done.\n",
      "\n",
      "Dividing into train 2 and test 2 sets...\n",
      "...Done.\n",
      "\n",
      "Convert pandas DataFrames to numpy arrays for data 0...\n",
      "...Done\n",
      "Convert pandas DataFrames to numpy arrays for data 1...\n",
      "...Done\n",
      "Convert pandas DataFrames to numpy arrays for data 1...\n",
      "...Done\n"
     ]
    }
   ],
   "source": [
    "# Divide dataset Train set & Test set \n",
    "print(\"Dividing into train 0 and test 0 sets...\")\n",
    "X_train_0, X_test_0, Y_train_0, Y_test_0 = train_test_split(X0, Y, test_size=0.1, random_state=0, stratify=Y)\n",
    "print(\"...Done.\")\n",
    "print()\n",
    "\n",
    "print(\"Dividing into train 1 and test 1 sets...\")\n",
    "X_train_1, X_test_1, Y_train_1, Y_test_1 = train_test_split(X1, Y, test_size=0.1, random_state=0, stratify=Y)\n",
    "print(\"...Done.\")\n",
    "print()\n",
    "\n",
    "print(\"Dividing into train 2 and test 2 sets...\")\n",
    "X_train_2, X_test_2, Y_train_2, Y_test_2 = train_test_split(X2, Y, test_size=0.1, random_state=0, stratify=Y)\n",
    "print(\"...Done.\")\n",
    "print()\n",
    "\n",
    "# Convert pandas DataFrames to numpy arrays before using scikit-learn\n",
    "print(\"Convert pandas DataFrames to numpy arrays for data 0...\")\n",
    "X_train_0 = X_train_0.values\n",
    "X_test_0 = X_test_0.values\n",
    "Y_train_0 = Y_train_0.values\n",
    "Y_test_0 = Y_test_0.values\n",
    "print(\"...Done\")\n",
    "\n",
    "print(\"Convert pandas DataFrames to numpy arrays for data 1...\")\n",
    "X_train_1 = X_train_1.values\n",
    "X_test_1 = X_test_1.values\n",
    "Y_train_1 = Y_train_1.values\n",
    "Y_test_1 = Y_test_1.values\n",
    "print(\"...Done\")\n",
    "\n",
    "print(\"Convert pandas DataFrames to numpy arrays for data 1...\")\n",
    "X_train_2 = X_train_2.values\n",
    "X_test_2 = X_test_2.values\n",
    "Y_train_2 = Y_train_2.values\n",
    "Y_test_2 = Y_test_2.values\n",
    "print(\"...Done\")\n"
   ]
  },
  {
   "cell_type": "markdown",
   "metadata": {},
   "source": [
    "##### Creating preprocessing pipelines"
   ]
  },
  {
   "cell_type": "code",
   "execution_count": 14,
   "metadata": {},
   "outputs": [
    {
     "name": "stdout",
     "output_type": "stream",
     "text": [
      "Encoding categorical features and standardizing numerical features...\n"
     ]
    }
   ],
   "source": [
    "print(\"Encoding categorical features and standardizing numerical features...\")\n",
    "\n",
    "# Create pipelines for numeric features\n",
    "numeric_transformer = Pipeline(steps=[\n",
    "    ('scaler', StandardScaler())\n",
    "])\n",
    "\n",
    "# Create pipeline for categorical features\n",
    "categorical_transformer = Pipeline(\n",
    "    steps=[\n",
    "    ('encoder', OneHotEncoder(drop='first')) # first column will be dropped to avoid creating correlations between features\n",
    "    ])\n",
    "\n",
    "# Use ColumnTransformer to make a preprocessor object that describes all the treatments to be done\n",
    "preprocessor_0 = ColumnTransformer(\n",
    "    transformers=[\n",
    "        ('num', numeric_transformer, numeric_indices_0)\n",
    "    ])\n",
    "\n",
    "preprocessor_1 = ColumnTransformer(\n",
    "    transformers=[\n",
    "        ('num', numeric_transformer, numeric_indices_1),\n",
    "        ('cat', categorical_transformer, categorical_indices_1)\n",
    "    ])\n",
    "\n",
    "preprocessor_2 = ColumnTransformer(\n",
    "    transformers=[\n",
    "        ('num', numeric_transformer, numeric_indices_2),\n",
    "        ('cat', categorical_transformer, categorical_indices_2)\n",
    "    ])"
   ]
  },
  {
   "cell_type": "markdown",
   "metadata": {},
   "source": [
    "##### Preprocessings on train sets."
   ]
  },
  {
   "cell_type": "code",
   "execution_count": 15,
   "metadata": {},
   "outputs": [
    {
     "name": "stdout",
     "output_type": "stream",
     "text": [
      "Performing preprocessings on train 0 set...\n",
      "...Done.\n",
      "\n",
      "Performing preprocessings on test 0 set...\n",
      "...Done.\n",
      "\n",
      "Performing preprocessings on train 1 set...\n",
      "...Done.\n",
      "\n",
      "Performing preprocessings on test 1 set...\n",
      "...Done.\n",
      "\n",
      "Performing preprocessings on train 1 set...\n",
      "...Done.\n",
      "\n",
      "Performing preprocessings on test 1 set...\n",
      "...Done.\n",
      "\n"
     ]
    }
   ],
   "source": [
    "# Fit all preprocessors on the corresponding data\n",
    "print(\"Performing preprocessings on train 0 set...\")\n",
    "X_train_0 = preprocessor_0.fit_transform(X_train_0)\n",
    "print('...Done.')\n",
    "print()\n",
    "print(\"Performing preprocessings on test 0 set...\")\n",
    "X_test_0 = preprocessor_0.transform(X_test_0)\n",
    "print('...Done.')\n",
    "print()\n",
    "\n",
    "print(\"Performing preprocessings on train 1 set...\")\n",
    "X_train_1 = preprocessor_1.fit_transform(X_train_1)\n",
    "print('...Done.')\n",
    "print()\n",
    "print(\"Performing preprocessings on test 1 set...\")\n",
    "X_test_1 = preprocessor_1.transform(X_test_1)\n",
    "print('...Done.')\n",
    "print()\n",
    "\n",
    "print(\"Performing preprocessings on train 1 set...\")\n",
    "X_train_2 = preprocessor_2.fit_transform(X_train_2)\n",
    "print('...Done.')\n",
    "print()\n",
    "print(\"Performing preprocessings on test 1 set...\")\n",
    "X_test_2 = preprocessor_2.transform(X_test_2)\n",
    "print('...Done.')\n",
    "print()"
   ]
  },
  {
   "cell_type": "markdown",
   "metadata": {
    "colab_type": "text",
    "id": "7b_aU7ij7K3Q"
   },
   "source": [
    "## Training pipeline"
   ]
  },
  {
   "cell_type": "markdown",
   "metadata": {},
   "source": [
    "##### Baseline is the simplest model"
   ]
  },
  {
   "cell_type": "code",
   "execution_count": 16,
   "metadata": {},
   "outputs": [
    {
     "name": "stdout",
     "output_type": "stream",
     "text": [
      "Train model...\n",
      "...Done.\n"
     ]
    }
   ],
   "source": [
    "# Create logistic regression model on one column\n",
    "print(\"Train model...\")\n",
    "logistic_0 = LogisticRegression() \n",
    "logistic_0.fit(X_train_0, Y_train_0)\n",
    "print(\"...Done.\")"
   ]
  },
  {
   "cell_type": "markdown",
   "metadata": {},
   "source": [
    "##### Logistic regression"
   ]
  },
  {
   "cell_type": "code",
   "execution_count": 17,
   "metadata": {},
   "outputs": [
    {
     "name": "stdout",
     "output_type": "stream",
     "text": [
      "Train model...\n",
      "...Done.\n"
     ]
    }
   ],
   "source": [
    "# Create logistic regression model on all columns\n",
    "print(\"Train model...\")\n",
    "logistic_1 = LogisticRegression() \n",
    "logistic_1.fit(X_train_1, Y_train_1)\n",
    "print(\"...Done.\")"
   ]
  },
  {
   "cell_type": "markdown",
   "metadata": {},
   "source": [
    "##### Logistic regression with engineered features (age_log)"
   ]
  },
  {
   "cell_type": "code",
   "execution_count": 18,
   "metadata": {
    "colab": {
     "base_uri": "https://localhost:8080/",
     "height": 104
    },
    "colab_type": "code",
    "id": "1qhidLbq7o-5",
    "outputId": "6bfb746c-1ff4-41c9-b0d6-a98fd09a444d"
   },
   "outputs": [
    {
     "name": "stdout",
     "output_type": "stream",
     "text": [
      "Train model...\n",
      "...Done.\n"
     ]
    }
   ],
   "source": [
    "# Create logistic regression model on engineered features\n",
    "print(\"Train model...\")\n",
    "logistic_2 = LogisticRegression() \n",
    "logistic_2.fit(X_train_2, Y_train_2)\n",
    "print(\"...Done.\")"
   ]
  },
  {
   "cell_type": "markdown",
   "metadata": {},
   "source": [
    "##### Logistic regression with custom threshold"
   ]
  },
  {
   "cell_type": "code",
   "execution_count": 19,
   "metadata": {},
   "outputs": [
    {
     "name": "stdout",
     "output_type": "stream",
     "text": [
      "Train model...\n",
      "...Done.\n"
     ]
    }
   ],
   "source": [
    "# logistic regression with engineered features and threshold\n",
    "\n",
    "# Create a simple the class to aply a threshold\n",
    "# The class just has a classifier, it does not inherit since we won't be overloading any functions\n",
    "class LogisticWithThreshold:\n",
    "    def __init__(self, threshold, classifier=LogisticRegression()):\n",
    "        self.classifier = classifier\n",
    "        self.threshold = threshold\n",
    "        \n",
    "    def fit(self, X, Y):\n",
    "        self.classifier.fit(X, Y)\n",
    "        \n",
    "    def predict(self, X_preprocessed):\n",
    "        Y_proba = self.classifier.predict_proba(X_preprocessed)\n",
    "        Y_pred = np.empty(len(Y_proba), dtype=int)\n",
    "        for i in range(len(Y_proba)):\n",
    "            if Y_proba[i][1] >= self.threshold:\n",
    "                Y_pred[i] = int(1)\n",
    "            else:\n",
    "                Y_pred[i] = int(0)\n",
    "        return Y_pred\n",
    "\n",
    "# Instatiate an object and train its model\n",
    "print(\"Train model...\")\n",
    "logistic_threshold_1 = LogisticWithThreshold(0.35) \n",
    "logistic_threshold_1.fit(X_train_1, Y_train_1)\n",
    "print(\"...Done.\")"
   ]
  },
  {
   "cell_type": "markdown",
   "metadata": {},
   "source": [
    "##### Decision tree"
   ]
  },
  {
   "cell_type": "code",
   "execution_count": 20,
   "metadata": {},
   "outputs": [
    {
     "name": "stdout",
     "output_type": "stream",
     "text": [
      "Train model...\n",
      "...Done.\n"
     ]
    }
   ],
   "source": [
    "# Create a decision tree model on all columns\n",
    "print(\"Train model...\")\n",
    "tree_1 = DecisionTreeClassifier() \n",
    "tree_1.fit(X_train_1, Y_train_1)\n",
    "print(\"...Done.\")"
   ]
  },
  {
   "cell_type": "markdown",
   "metadata": {},
   "source": [
    "##### Random forest "
   ]
  },
  {
   "cell_type": "code",
   "execution_count": 21,
   "metadata": {},
   "outputs": [
    {
     "name": "stdout",
     "output_type": "stream",
     "text": [
      "Train model...\n",
      "...Done.\n",
      "CPU times: user 14.8 s, sys: 36.4 ms, total: 14.8 s\n",
      "Wall time: 14.8 s\n"
     ]
    }
   ],
   "source": [
    "%%time\n",
    "\n",
    "# Create a random forest model on all columns\n",
    "print(\"Train model...\")\n",
    "forest_1 = RandomForestClassifier() \n",
    "forest_1.fit(X_train_1, Y_train_1)\n",
    "print(\"...Done.\")"
   ]
  },
  {
   "cell_type": "markdown",
   "metadata": {},
   "source": [
    "##### AdaBoost"
   ]
  },
  {
   "cell_type": "code",
   "execution_count": 22,
   "metadata": {},
   "outputs": [
    {
     "name": "stdout",
     "output_type": "stream",
     "text": [
      "Train model...\n",
      "...Done.\n",
      "CPU times: user 5.83 s, sys: 10.4 ms, total: 5.84 s\n",
      "Wall time: 5.86 s\n"
     ]
    }
   ],
   "source": [
    "%%time\n",
    "\n",
    "# Create adaboost model on all columns\n",
    "print(\"Train model...\")\n",
    "adaboost_1 = AdaBoostClassifier()\n",
    "adaboost_1.fit(X_train_1, Y_train_1)\n",
    "print(\"...Done.\")"
   ]
  },
  {
   "cell_type": "markdown",
   "metadata": {},
   "source": [
    "##### XGBoost"
   ]
  },
  {
   "cell_type": "code",
   "execution_count": 23,
   "metadata": {},
   "outputs": [
    {
     "name": "stdout",
     "output_type": "stream",
     "text": [
      "Train model...\n",
      "...Done.\n",
      "CPU times: user 28.4 s, sys: 86.6 ms, total: 28.5 s\n",
      "Wall time: 9.57 s\n"
     ]
    }
   ],
   "source": [
    "%%time\n",
    "\n",
    "# Create xgboost model on all columns\n",
    "print(\"Train model...\")\n",
    "xgb_1 = XGBClassifier(use_label_encoder=False)\n",
    "xgb_1.fit(X_train_1, Y_train_1)\n",
    "print(\"...Done.\")"
   ]
  },
  {
   "cell_type": "markdown",
   "metadata": {},
   "source": [
    "#### Improve Random forest\n",
    "Perform grid search for Random forest"
   ]
  },
  {
   "cell_type": "code",
   "execution_count": 24,
   "metadata": {},
   "outputs": [
    {
     "name": "stdout",
     "output_type": "stream",
     "text": [
      "Grid search...\n",
      "Fitting 3 folds for each of 54 candidates, totalling 162 fits\n",
      "[CV] END max_depth=30, min_samples_leaf=10, min_samples_split=10, n_estimators=10; total time=   1.0s\n",
      "[CV] END max_depth=30, min_samples_leaf=10, min_samples_split=10, n_estimators=10; total time=   1.0s\n",
      "[CV] END max_depth=30, min_samples_leaf=10, min_samples_split=10, n_estimators=10; total time=   1.0s\n",
      "[CV] END max_depth=30, min_samples_leaf=10, min_samples_split=10, n_estimators=20; total time=   1.9s\n",
      "[CV] END max_depth=30, min_samples_leaf=10, min_samples_split=10, n_estimators=20; total time=   1.9s\n",
      "[CV] END max_depth=30, min_samples_leaf=10, min_samples_split=10, n_estimators=20; total time=   1.9s\n",
      "[CV] END max_depth=30, min_samples_leaf=10, min_samples_split=10, n_estimators=30; total time=   2.9s\n",
      "[CV] END max_depth=30, min_samples_leaf=10, min_samples_split=10, n_estimators=30; total time=   3.0s\n",
      "[CV] END max_depth=30, min_samples_leaf=10, min_samples_split=10, n_estimators=30; total time=   2.8s\n",
      "[CV] END max_depth=30, min_samples_leaf=10, min_samples_split=20, n_estimators=10; total time=   1.0s\n",
      "[CV] END max_depth=30, min_samples_leaf=10, min_samples_split=20, n_estimators=10; total time=   1.0s\n",
      "[CV] END max_depth=30, min_samples_leaf=10, min_samples_split=20, n_estimators=10; total time=   1.0s\n",
      "[CV] END max_depth=30, min_samples_leaf=10, min_samples_split=20, n_estimators=20; total time=   2.0s\n",
      "[CV] END max_depth=30, min_samples_leaf=10, min_samples_split=20, n_estimators=20; total time=   2.0s\n",
      "[CV] END max_depth=30, min_samples_leaf=10, min_samples_split=20, n_estimators=20; total time=   2.0s\n",
      "[CV] END max_depth=30, min_samples_leaf=10, min_samples_split=20, n_estimators=30; total time=   2.8s\n",
      "[CV] END max_depth=30, min_samples_leaf=10, min_samples_split=20, n_estimators=30; total time=   2.9s\n",
      "[CV] END max_depth=30, min_samples_leaf=10, min_samples_split=20, n_estimators=30; total time=   2.9s\n",
      "[CV] END max_depth=30, min_samples_leaf=10, min_samples_split=30, n_estimators=10; total time=   0.9s\n",
      "[CV] END max_depth=30, min_samples_leaf=10, min_samples_split=30, n_estimators=10; total time=   1.0s\n",
      "[CV] END max_depth=30, min_samples_leaf=10, min_samples_split=30, n_estimators=10; total time=   1.0s\n",
      "[CV] END max_depth=30, min_samples_leaf=10, min_samples_split=30, n_estimators=20; total time=   1.9s\n",
      "[CV] END max_depth=30, min_samples_leaf=10, min_samples_split=30, n_estimators=20; total time=   1.9s\n",
      "[CV] END max_depth=30, min_samples_leaf=10, min_samples_split=30, n_estimators=20; total time=   2.0s\n",
      "[CV] END max_depth=30, min_samples_leaf=10, min_samples_split=30, n_estimators=30; total time=   3.0s\n",
      "[CV] END max_depth=30, min_samples_leaf=10, min_samples_split=30, n_estimators=30; total time=   2.9s\n",
      "[CV] END max_depth=30, min_samples_leaf=10, min_samples_split=30, n_estimators=30; total time=   2.8s\n",
      "[CV] END max_depth=30, min_samples_leaf=20, min_samples_split=10, n_estimators=10; total time=   1.0s\n",
      "[CV] END max_depth=30, min_samples_leaf=20, min_samples_split=10, n_estimators=10; total time=   1.0s\n",
      "[CV] END max_depth=30, min_samples_leaf=20, min_samples_split=10, n_estimators=10; total time=   1.0s\n",
      "[CV] END max_depth=30, min_samples_leaf=20, min_samples_split=10, n_estimators=20; total time=   1.8s\n",
      "[CV] END max_depth=30, min_samples_leaf=20, min_samples_split=10, n_estimators=20; total time=   2.0s\n",
      "[CV] END max_depth=30, min_samples_leaf=20, min_samples_split=10, n_estimators=20; total time=   1.8s\n",
      "[CV] END max_depth=30, min_samples_leaf=20, min_samples_split=10, n_estimators=30; total time=   2.7s\n",
      "[CV] END max_depth=30, min_samples_leaf=20, min_samples_split=10, n_estimators=30; total time=   2.7s\n",
      "[CV] END max_depth=30, min_samples_leaf=20, min_samples_split=10, n_estimators=30; total time=   2.7s\n",
      "[CV] END max_depth=30, min_samples_leaf=20, min_samples_split=20, n_estimators=10; total time=   0.9s\n",
      "[CV] END max_depth=30, min_samples_leaf=20, min_samples_split=20, n_estimators=10; total time=   0.9s\n",
      "[CV] END max_depth=30, min_samples_leaf=20, min_samples_split=20, n_estimators=10; total time=   1.0s\n",
      "[CV] END max_depth=30, min_samples_leaf=20, min_samples_split=20, n_estimators=20; total time=   1.9s\n",
      "[CV] END max_depth=30, min_samples_leaf=20, min_samples_split=20, n_estimators=20; total time=   1.8s\n",
      "[CV] END max_depth=30, min_samples_leaf=20, min_samples_split=20, n_estimators=20; total time=   1.7s\n",
      "[CV] END max_depth=30, min_samples_leaf=20, min_samples_split=20, n_estimators=30; total time=   2.7s\n",
      "[CV] END max_depth=30, min_samples_leaf=20, min_samples_split=20, n_estimators=30; total time=   2.7s\n",
      "[CV] END max_depth=30, min_samples_leaf=20, min_samples_split=20, n_estimators=30; total time=   2.7s\n",
      "[CV] END max_depth=30, min_samples_leaf=20, min_samples_split=30, n_estimators=10; total time=   0.9s\n",
      "[CV] END max_depth=30, min_samples_leaf=20, min_samples_split=30, n_estimators=10; total time=   0.9s\n",
      "[CV] END max_depth=30, min_samples_leaf=20, min_samples_split=30, n_estimators=10; total time=   0.9s\n",
      "[CV] END max_depth=30, min_samples_leaf=20, min_samples_split=30, n_estimators=20; total time=   1.8s\n",
      "[CV] END max_depth=30, min_samples_leaf=20, min_samples_split=30, n_estimators=20; total time=   1.8s\n",
      "[CV] END max_depth=30, min_samples_leaf=20, min_samples_split=30, n_estimators=20; total time=   1.9s\n",
      "[CV] END max_depth=30, min_samples_leaf=20, min_samples_split=30, n_estimators=30; total time=   2.7s\n",
      "[CV] END max_depth=30, min_samples_leaf=20, min_samples_split=30, n_estimators=30; total time=   2.7s\n",
      "[CV] END max_depth=30, min_samples_leaf=20, min_samples_split=30, n_estimators=30; total time=   2.9s\n",
      "[CV] END max_depth=30, min_samples_leaf=30, min_samples_split=10, n_estimators=10; total time=   0.9s\n",
      "[CV] END max_depth=30, min_samples_leaf=30, min_samples_split=10, n_estimators=10; total time=   0.9s\n",
      "[CV] END max_depth=30, min_samples_leaf=30, min_samples_split=10, n_estimators=10; total time=   0.9s\n",
      "[CV] END max_depth=30, min_samples_leaf=30, min_samples_split=10, n_estimators=20; total time=   1.9s\n",
      "[CV] END max_depth=30, min_samples_leaf=30, min_samples_split=10, n_estimators=20; total time=   1.8s\n",
      "[CV] END max_depth=30, min_samples_leaf=30, min_samples_split=10, n_estimators=20; total time=   1.8s\n",
      "[CV] END max_depth=30, min_samples_leaf=30, min_samples_split=10, n_estimators=30; total time=   2.7s\n",
      "[CV] END max_depth=30, min_samples_leaf=30, min_samples_split=10, n_estimators=30; total time=   2.7s\n",
      "[CV] END max_depth=30, min_samples_leaf=30, min_samples_split=10, n_estimators=30; total time=   2.7s\n",
      "[CV] END max_depth=30, min_samples_leaf=30, min_samples_split=20, n_estimators=10; total time=   1.0s\n",
      "[CV] END max_depth=30, min_samples_leaf=30, min_samples_split=20, n_estimators=10; total time=   1.0s\n",
      "[CV] END max_depth=30, min_samples_leaf=30, min_samples_split=20, n_estimators=10; total time=   0.9s\n",
      "[CV] END max_depth=30, min_samples_leaf=30, min_samples_split=20, n_estimators=20; total time=   1.8s\n",
      "[CV] END max_depth=30, min_samples_leaf=30, min_samples_split=20, n_estimators=20; total time=   1.8s\n",
      "[CV] END max_depth=30, min_samples_leaf=30, min_samples_split=20, n_estimators=20; total time=   1.7s\n",
      "[CV] END max_depth=30, min_samples_leaf=30, min_samples_split=20, n_estimators=30; total time=   2.6s\n",
      "[CV] END max_depth=30, min_samples_leaf=30, min_samples_split=20, n_estimators=30; total time=   2.7s\n",
      "[CV] END max_depth=30, min_samples_leaf=30, min_samples_split=20, n_estimators=30; total time=   2.8s\n",
      "[CV] END max_depth=30, min_samples_leaf=30, min_samples_split=30, n_estimators=10; total time=   0.9s\n",
      "[CV] END max_depth=30, min_samples_leaf=30, min_samples_split=30, n_estimators=10; total time=   0.9s\n",
      "[CV] END max_depth=30, min_samples_leaf=30, min_samples_split=30, n_estimators=10; total time=   0.9s\n",
      "[CV] END max_depth=30, min_samples_leaf=30, min_samples_split=30, n_estimators=20; total time=   1.8s\n",
      "[CV] END max_depth=30, min_samples_leaf=30, min_samples_split=30, n_estimators=20; total time=   1.9s\n",
      "[CV] END max_depth=30, min_samples_leaf=30, min_samples_split=30, n_estimators=20; total time=   1.9s\n",
      "[CV] END max_depth=30, min_samples_leaf=30, min_samples_split=30, n_estimators=30; total time=   2.7s\n",
      "[CV] END max_depth=30, min_samples_leaf=30, min_samples_split=30, n_estimators=30; total time=   2.7s\n",
      "[CV] END max_depth=30, min_samples_leaf=30, min_samples_split=30, n_estimators=30; total time=   2.7s\n",
      "[CV] END max_depth=40, min_samples_leaf=10, min_samples_split=10, n_estimators=10; total time=   1.0s\n",
      "[CV] END max_depth=40, min_samples_leaf=10, min_samples_split=10, n_estimators=10; total time=   0.9s\n",
      "[CV] END max_depth=40, min_samples_leaf=10, min_samples_split=10, n_estimators=10; total time=   0.9s\n",
      "[CV] END max_depth=40, min_samples_leaf=10, min_samples_split=10, n_estimators=20; total time=   1.8s\n",
      "[CV] END max_depth=40, min_samples_leaf=10, min_samples_split=10, n_estimators=20; total time=   1.8s\n",
      "[CV] END max_depth=40, min_samples_leaf=10, min_samples_split=10, n_estimators=20; total time=   1.8s\n",
      "[CV] END max_depth=40, min_samples_leaf=10, min_samples_split=10, n_estimators=30; total time=   3.0s\n",
      "[CV] END max_depth=40, min_samples_leaf=10, min_samples_split=10, n_estimators=30; total time=   2.8s\n",
      "[CV] END max_depth=40, min_samples_leaf=10, min_samples_split=10, n_estimators=30; total time=   2.7s\n",
      "[CV] END max_depth=40, min_samples_leaf=10, min_samples_split=20, n_estimators=10; total time=   1.0s\n",
      "[CV] END max_depth=40, min_samples_leaf=10, min_samples_split=20, n_estimators=10; total time=   0.9s\n",
      "[CV] END max_depth=40, min_samples_leaf=10, min_samples_split=20, n_estimators=10; total time=   0.9s\n",
      "[CV] END max_depth=40, min_samples_leaf=10, min_samples_split=20, n_estimators=20; total time=   1.8s\n",
      "[CV] END max_depth=40, min_samples_leaf=10, min_samples_split=20, n_estimators=20; total time=   1.8s\n",
      "[CV] END max_depth=40, min_samples_leaf=10, min_samples_split=20, n_estimators=20; total time=   1.8s\n",
      "[CV] END max_depth=40, min_samples_leaf=10, min_samples_split=20, n_estimators=30; total time=   2.7s\n",
      "[CV] END max_depth=40, min_samples_leaf=10, min_samples_split=20, n_estimators=30; total time=   2.8s\n",
      "[CV] END max_depth=40, min_samples_leaf=10, min_samples_split=20, n_estimators=30; total time=   2.9s\n",
      "[CV] END max_depth=40, min_samples_leaf=10, min_samples_split=30, n_estimators=10; total time=   1.0s\n",
      "[CV] END max_depth=40, min_samples_leaf=10, min_samples_split=30, n_estimators=10; total time=   0.9s\n",
      "[CV] END max_depth=40, min_samples_leaf=10, min_samples_split=30, n_estimators=10; total time=   0.9s\n",
      "[CV] END max_depth=40, min_samples_leaf=10, min_samples_split=30, n_estimators=20; total time=   1.8s\n",
      "[CV] END max_depth=40, min_samples_leaf=10, min_samples_split=30, n_estimators=20; total time=   1.8s\n",
      "[CV] END max_depth=40, min_samples_leaf=10, min_samples_split=30, n_estimators=20; total time=   1.9s\n",
      "[CV] END max_depth=40, min_samples_leaf=10, min_samples_split=30, n_estimators=30; total time=   2.8s\n",
      "[CV] END max_depth=40, min_samples_leaf=10, min_samples_split=30, n_estimators=30; total time=   2.7s\n",
      "[CV] END max_depth=40, min_samples_leaf=10, min_samples_split=30, n_estimators=30; total time=   2.7s\n",
      "[CV] END max_depth=40, min_samples_leaf=20, min_samples_split=10, n_estimators=10; total time=   0.9s\n",
      "[CV] END max_depth=40, min_samples_leaf=20, min_samples_split=10, n_estimators=10; total time=   1.0s\n",
      "[CV] END max_depth=40, min_samples_leaf=20, min_samples_split=10, n_estimators=10; total time=   0.9s\n",
      "[CV] END max_depth=40, min_samples_leaf=20, min_samples_split=10, n_estimators=20; total time=   1.8s\n",
      "[CV] END max_depth=40, min_samples_leaf=20, min_samples_split=10, n_estimators=20; total time=   1.8s\n",
      "[CV] END max_depth=40, min_samples_leaf=20, min_samples_split=10, n_estimators=20; total time=   1.8s\n",
      "[CV] END max_depth=40, min_samples_leaf=20, min_samples_split=10, n_estimators=30; total time=   2.6s\n",
      "[CV] END max_depth=40, min_samples_leaf=20, min_samples_split=10, n_estimators=30; total time=   2.6s\n",
      "[CV] END max_depth=40, min_samples_leaf=20, min_samples_split=10, n_estimators=30; total time=   2.7s\n",
      "[CV] END max_depth=40, min_samples_leaf=20, min_samples_split=20, n_estimators=10; total time=   0.9s\n",
      "[CV] END max_depth=40, min_samples_leaf=20, min_samples_split=20, n_estimators=10; total time=   0.9s\n",
      "[CV] END max_depth=40, min_samples_leaf=20, min_samples_split=20, n_estimators=10; total time=   0.9s\n",
      "[CV] END max_depth=40, min_samples_leaf=20, min_samples_split=20, n_estimators=20; total time=   1.8s\n",
      "[CV] END max_depth=40, min_samples_leaf=20, min_samples_split=20, n_estimators=20; total time=   1.8s\n",
      "[CV] END max_depth=40, min_samples_leaf=20, min_samples_split=20, n_estimators=20; total time=   1.9s\n",
      "[CV] END max_depth=40, min_samples_leaf=20, min_samples_split=20, n_estimators=30; total time=   2.6s\n",
      "[CV] END max_depth=40, min_samples_leaf=20, min_samples_split=20, n_estimators=30; total time=   2.6s\n",
      "[CV] END max_depth=40, min_samples_leaf=20, min_samples_split=20, n_estimators=30; total time=   2.7s\n",
      "[CV] END max_depth=40, min_samples_leaf=20, min_samples_split=30, n_estimators=10; total time=   0.9s\n",
      "[CV] END max_depth=40, min_samples_leaf=20, min_samples_split=30, n_estimators=10; total time=   1.0s\n",
      "[CV] END max_depth=40, min_samples_leaf=20, min_samples_split=30, n_estimators=10; total time=   0.9s\n",
      "[CV] END max_depth=40, min_samples_leaf=20, min_samples_split=30, n_estimators=20; total time=   1.8s\n",
      "[CV] END max_depth=40, min_samples_leaf=20, min_samples_split=30, n_estimators=20; total time=   1.8s\n",
      "[CV] END max_depth=40, min_samples_leaf=20, min_samples_split=30, n_estimators=20; total time=   1.8s\n",
      "[CV] END max_depth=40, min_samples_leaf=20, min_samples_split=30, n_estimators=30; total time=   2.7s\n",
      "[CV] END max_depth=40, min_samples_leaf=20, min_samples_split=30, n_estimators=30; total time=   2.7s\n",
      "[CV] END max_depth=40, min_samples_leaf=20, min_samples_split=30, n_estimators=30; total time=   2.6s\n",
      "[CV] END max_depth=40, min_samples_leaf=30, min_samples_split=10, n_estimators=10; total time=   0.9s\n",
      "[CV] END max_depth=40, min_samples_leaf=30, min_samples_split=10, n_estimators=10; total time=   0.9s\n",
      "[CV] END max_depth=40, min_samples_leaf=30, min_samples_split=10, n_estimators=10; total time=   0.9s\n",
      "[CV] END max_depth=40, min_samples_leaf=30, min_samples_split=10, n_estimators=20; total time=   1.8s\n",
      "[CV] END max_depth=40, min_samples_leaf=30, min_samples_split=10, n_estimators=20; total time=   1.8s\n",
      "[CV] END max_depth=40, min_samples_leaf=30, min_samples_split=10, n_estimators=20; total time=   1.7s\n",
      "[CV] END max_depth=40, min_samples_leaf=30, min_samples_split=10, n_estimators=30; total time=   2.7s\n",
      "[CV] END max_depth=40, min_samples_leaf=30, min_samples_split=10, n_estimators=30; total time=   2.8s\n",
      "[CV] END max_depth=40, min_samples_leaf=30, min_samples_split=10, n_estimators=30; total time=   2.6s\n",
      "[CV] END max_depth=40, min_samples_leaf=30, min_samples_split=20, n_estimators=10; total time=   0.9s\n",
      "[CV] END max_depth=40, min_samples_leaf=30, min_samples_split=20, n_estimators=10; total time=   0.9s\n",
      "[CV] END max_depth=40, min_samples_leaf=30, min_samples_split=20, n_estimators=10; total time=   0.9s\n",
      "[CV] END max_depth=40, min_samples_leaf=30, min_samples_split=20, n_estimators=20; total time=   1.8s\n",
      "[CV] END max_depth=40, min_samples_leaf=30, min_samples_split=20, n_estimators=20; total time=   1.7s\n",
      "[CV] END max_depth=40, min_samples_leaf=30, min_samples_split=20, n_estimators=20; total time=   1.8s\n",
      "[CV] END max_depth=40, min_samples_leaf=30, min_samples_split=20, n_estimators=30; total time=   2.7s\n",
      "[CV] END max_depth=40, min_samples_leaf=30, min_samples_split=20, n_estimators=30; total time=   2.6s\n",
      "[CV] END max_depth=40, min_samples_leaf=30, min_samples_split=20, n_estimators=30; total time=   2.8s\n",
      "[CV] END max_depth=40, min_samples_leaf=30, min_samples_split=30, n_estimators=10; total time=   0.9s\n",
      "[CV] END max_depth=40, min_samples_leaf=30, min_samples_split=30, n_estimators=10; total time=   0.9s\n",
      "[CV] END max_depth=40, min_samples_leaf=30, min_samples_split=30, n_estimators=10; total time=   0.9s\n",
      "[CV] END max_depth=40, min_samples_leaf=30, min_samples_split=30, n_estimators=20; total time=   1.9s\n",
      "[CV] END max_depth=40, min_samples_leaf=30, min_samples_split=30, n_estimators=20; total time=   1.8s\n",
      "[CV] END max_depth=40, min_samples_leaf=30, min_samples_split=30, n_estimators=20; total time=   1.8s\n",
      "[CV] END max_depth=40, min_samples_leaf=30, min_samples_split=30, n_estimators=30; total time=   2.6s\n",
      "[CV] END max_depth=40, min_samples_leaf=30, min_samples_split=30, n_estimators=30; total time=   2.7s\n",
      "[CV] END max_depth=40, min_samples_leaf=30, min_samples_split=30, n_estimators=30; total time=   2.6s\n",
      "...Done.\n",
      "Best hyperparameters :  {'max_depth': 30, 'min_samples_leaf': 20, 'min_samples_split': 10, 'n_estimators': 20}\n",
      "Best validation accuracy :  0.9860026572917047\n",
      "CPU times: user 4min 59s, sys: 518 ms, total: 5min\n",
      "Wall time: 5min\n"
     ]
    }
   ],
   "source": [
    "%%time\n",
    "\n",
    "print(\"Grid search...\")\n",
    "classifier = RandomForestClassifier()\n",
    "\n",
    "# Grid of values to be tested\n",
    "params = {\n",
    "    'max_depth': [30, 40],\n",
    "    'min_samples_leaf': [10, 20, 30],\n",
    "    'min_samples_split': [10,20, 30],\n",
    "    'n_estimators': [10,20,30]\n",
    "}\n",
    "\n",
    "# Performing gridsearch\n",
    "gridsearch_forest = GridSearchCV(classifier, param_grid = params, cv = 3, verbose=2)\n",
    "gridsearch_forest.fit(X_train_1, Y_train_1)\n",
    "print(\"...Done.\")\n",
    "print(\"Best hyperparameters : \", gridsearch_forest.best_params_)\n",
    "print(\"Best validation accuracy : \", gridsearch_forest.best_score_)"
   ]
  },
  {
   "cell_type": "markdown",
   "metadata": {},
   "source": [
    "#### Voting between best models\n",
    "\"Best models\" were determined using metrics in the next part."
   ]
  },
  {
   "cell_type": "code",
   "execution_count": 42,
   "metadata": {},
   "outputs": [
    {
     "name": "stdout",
     "output_type": "stream",
     "text": [
      "Train model...\n",
      "...Done.\n",
      "CPU times: user 49.4 s, sys: 1.7 s, total: 51.1 s\n",
      "Wall time: 29.8 s\n"
     ]
    }
   ],
   "source": [
    "%%time\n",
    "\n",
    "# Create a voting model with all best models using all columns\n",
    "print(\"Train model...\")\n",
    "vote_1 = VotingClassifier(estimators=[\n",
    "    ('adab', adaboost_1), ('xgb', xgb_1), ('lr', logistic_1), ('rf', forest_1)],\n",
    "    voting='soft')\n",
    "\n",
    "# Training model on all columns\n",
    "vote_1.fit(X_train_1, Y_train_1)\n",
    "\n",
    "print(\"...Done.\")"
   ]
  },
  {
   "cell_type": "markdown",
   "metadata": {
    "colab_type": "text",
    "id": "zxJCTlz0_2it"
   },
   "source": [
    "## Performance assessment\n",
    "Defining the metric used to asses perfomance: f1-score. Also printing precision and recall."
   ]
  },
  {
   "cell_type": "code",
   "execution_count": 26,
   "metadata": {
    "colab": {
     "base_uri": "https://localhost:8080/",
     "height": 134
    },
    "colab_type": "code",
    "id": "ngOSdG6-_Cvb",
    "outputId": "1e19e8ee-222f-413b-9bc0-e9f41dcca1c0"
   },
   "outputs": [],
   "source": [
    "# Use X_test, and the same preprocessings as in training pipeline\n",
    "\n",
    "# Function used to get all metrcis after a model has been trained\n",
    "def get_metrics(X_train, Y_train, X_test, Y_test, classifier):\n",
    "    # Predictions\n",
    "    Y_train_pred = classifier.predict(X_train)\n",
    "    Y_test_pred = classifier.predict(X_test)\n",
    "    \n",
    "    # print metrics\n",
    "    print(\"    f1-score on train set : \", f1_score(Y_train, Y_train_pred))\n",
    "    print(\"    f1-score on test set : \", f1_score(Y_test, Y_test_pred))\n",
    "    print()\n",
    "    print(\"    precision_score on train set : \", precision_score(Y_train, Y_train_pred))\n",
    "    print(\"    precision_score on test set : \", precision_score(Y_test, Y_test_pred))\n",
    "    print()\n",
    "    print(\"    recall_score on train set : \", recall_score(Y_train, Y_train_pred))\n",
    "    print(\"    recall_score on test set : \", recall_score(Y_test, Y_test_pred))\n",
    "    print()\n",
    "    \n",
    "    # confusion matrix\n",
    "    print(\"    Confusion matrix on train set : \")\n",
    "    cm = confusion_matrix(Y_train, Y_train_pred)\n",
    "    sns.heatmap(cm, annot=True, fmt=\"d\")\n",
    "    print()\n"
   ]
  },
  {
   "cell_type": "markdown",
   "metadata": {},
   "source": [
    "**Our baseline model reaches a f1-score of almost 70%. Now, we refine our models and try to beat this score ! 🚀🚀**"
   ]
  },
  {
   "cell_type": "code",
   "execution_count": 27,
   "metadata": {},
   "outputs": [
    {
     "name": "stdout",
     "output_type": "stream",
     "text": [
      "Logistic regression monovariable\n",
      "    f1-score on train set :  0.6950136373172948\n",
      "    f1-score on test set :  0.6961394769613949\n",
      "\n",
      "    precision_score on train set :  0.8228183474085113\n",
      "    precision_score on test set :  0.8125\n",
      "\n",
      "    recall_score on train set :  0.6015738498789346\n",
      "    recall_score on test set :  0.6089324618736384\n",
      "\n",
      "    Confusion matrix on train set : \n",
      "\n"
     ]
    },
    {
     "data": {
      "image/png": "[encoded data removed]",
      "text/plain": [
       "<Figure size 432x288 with 2 Axes>"
      ]
     },
     "metadata": {
      "needs_background": "light"
     },
     "output_type": "display_data"
    }
   ],
   "source": [
    "print(\"Logistic regression monovariable\")\n",
    "get_metrics(X_train_0, Y_train_0, X_test_0, Y_test_0, logistic_0)"
   ]
  },
  {
   "cell_type": "code",
   "execution_count": 67,
   "metadata": {},
   "outputs": [
    {
     "name": "stdout",
     "output_type": "stream",
     "text": [
      "Logistic regression on all variables\n",
      "    f1-score on train set :  0.7625754527162979\n",
      "    f1-score on test set :  0.7711711711711712\n",
      "\n",
      "    precision_score on train set :  0.8548872180451128\n",
      "    precision_score on test set :  0.8594377510040161\n",
      "\n",
      "    recall_score on train set :  0.6882566585956417\n",
      "    recall_score on test set :  0.6993464052287581\n",
      "\n",
      "    Confusion matrix on train set : \n",
      "\n"
     ]
    },
    {
     "data": {
      "image/png": "[encoded data removed]",
      "text/plain": [
       "<Figure size 432x288 with 2 Axes>"
      ]
     },
     "metadata": {
      "needs_background": "light"
     },
     "output_type": "display_data"
    },
    {
     "data": {
      "image/png": "[encoded data removed]",
      "text/plain": [
       "<Figure size 432x288 with 1 Axes>"
      ]
     },
     "metadata": {
      "needs_background": "light"
     },
     "output_type": "display_data"
    }
   ],
   "source": [
    "print(\"Logistic regression on all variables\")\n",
    "get_metrics(X_train_1, Y_train_1, X_test_1, Y_test_1, logistic_1)\n",
    "\n",
    "# Visualize ROC curves\n",
    "_ , ax = plt.subplots() # Get subplot from matplotlib\n",
    "ax.set(title=\"ROC Curve on Test set\")\n",
    "RocCurveDisplay.from_estimator(logistic_1, X_test_1, Y_test_1, ax=ax) # RocCurveDisplay from sklearn\n",
    "plt.show()"
   ]
  },
  {
   "cell_type": "markdown",
   "metadata": {},
   "source": [
    "It seems like recall was improved as exprected but precision was lowered... Crossval would be necessary..."
   ]
  },
  {
   "cell_type": "code",
   "execution_count": 79,
   "metadata": {},
   "outputs": [
    {
     "name": "stdout",
     "output_type": "stream",
     "text": [
      "Logistic regression with threshold on all variables\n",
      "    f1-score on train set :  0.7704615384615384\n",
      "    f1-score on test set :  0.7649006622516555\n",
      "\n",
      "    precision_score on train set :  0.7834793491864831\n",
      "    precision_score on test set :  0.7751677852348994\n",
      "\n",
      "    recall_score on train set :  0.7578692493946732\n",
      "    recall_score on test set :  0.7549019607843137\n",
      "\n",
      "    Confusion matrix on train set : \n",
      "\n"
     ]
    },
    {
     "data": {
      "image/png": "[encoded data removed]",
      "text/plain": [
       "<Figure size 432x288 with 2 Axes>"
      ]
     },
     "metadata": {
      "needs_background": "light"
     },
     "output_type": "display_data"
    }
   ],
   "source": [
    "print(\"Logistic regression with threshold on all variables\")\n",
    "get_metrics(X_train_1, Y_train_1, X_test_1, Y_test_1, logistic_threshold_1)"
   ]
  },
  {
   "cell_type": "code",
   "execution_count": 30,
   "metadata": {},
   "outputs": [
    {
     "name": "stdout",
     "output_type": "stream",
     "text": [
      "Logistic regression on feature-engineered variables\n",
      "    f1-score on train set :  0.7616941428762901\n",
      "    f1-score on test set :  0.7686746987951807\n",
      "\n",
      "    precision_score on train set :  0.8530471329930952\n",
      "    precision_score on test set :  0.8598382749326146\n",
      "\n",
      "    recall_score on train set :  0.6880145278450364\n",
      "    recall_score on test set :  0.6949891067538126\n",
      "\n",
      "    Confusion matrix on train set : \n",
      "\n"
     ]
    },
    {
     "data": {
      "image/png": "[encoded data removed]",
      "text/plain": [
       "<Figure size 432x288 with 2 Axes>"
      ]
     },
     "metadata": {
      "needs_background": "light"
     },
     "output_type": "display_data"
    }
   ],
   "source": [
    "print(\"Logistic regression on feature-engineered variables\")\n",
    "get_metrics(X_train_2, Y_train_2, X_test_2, Y_test_2, logistic_2)"
   ]
  },
  {
   "cell_type": "code",
   "execution_count": 31,
   "metadata": {},
   "outputs": [
    {
     "name": "stdout",
     "output_type": "stream",
     "text": [
      "One tree, raw variables\n",
      "    f1-score on train set :  0.7968230262711289\n",
      "    f1-score on test set :  0.7287201469687691\n",
      "\n",
      "    precision_score on train set :  0.9069695564827692\n",
      "    precision_score on test set :  0.8321678321678322\n",
      "\n",
      "    recall_score on train set :  0.7105326876513317\n",
      "    recall_score on test set :  0.6481481481481481\n",
      "\n",
      "    Confusion matrix on train set : \n",
      "\n"
     ]
    },
    {
     "data": {
      "image/png": "[encoded data removed]",
      "text/plain": [
       "<Figure size 432x288 with 2 Axes>"
      ]
     },
     "metadata": {
      "needs_background": "light"
     },
     "output_type": "display_data"
    }
   ],
   "source": [
    "print(\"One tree, raw variables\")\n",
    "get_metrics(X_train_1, Y_train_1, X_test_1, Y_test_1, tree_1)"
   ]
  },
  {
   "cell_type": "code",
   "execution_count": 32,
   "metadata": {},
   "outputs": [
    {
     "name": "stdout",
     "output_type": "stream",
     "text": [
      "Random forest, raw variables\n",
      "    f1-score on train set :  0.8018012052181976\n",
      "    f1-score on test set :  0.7449584816132858\n",
      "\n",
      "    precision_score on train set :  0.8849583394240608\n",
      "    precision_score on test set :  0.8177083333333334\n",
      "\n",
      "    recall_score on train set :  0.7329297820823245\n",
      "    recall_score on test set :  0.6840958605664488\n",
      "\n",
      "    Confusion matrix on train set : \n",
      "\n"
     ]
    },
    {
     "data": {
      "image/png": "[encoded data removed]",
      "text/plain": [
       "<Figure size 432x288 with 2 Axes>"
      ]
     },
     "metadata": {
      "needs_background": "light"
     },
     "output_type": "display_data"
    }
   ],
   "source": [
    "print(\"Random forest, raw variables\")\n",
    "get_metrics(X_train_1, Y_train_1, X_test_1, Y_test_1, forest_1)"
   ]
  },
  {
   "cell_type": "code",
   "execution_count": 33,
   "metadata": {},
   "outputs": [
    {
     "name": "stdout",
     "output_type": "stream",
     "text": [
      "AdaBoost, raw variables\n",
      "    f1-score on train set :  0.7532834916144676\n",
      "    f1-score on test set :  0.7528700906344411\n",
      "\n",
      "    precision_score on train set :  0.8489448914528617\n",
      "    precision_score on test set :  0.8453188602442334\n",
      "\n",
      "    recall_score on train set :  0.676997578692494\n",
      "    recall_score on test set :  0.6786492374727668\n",
      "\n",
      "    Confusion matrix on train set : \n",
      "\n"
     ]
    },
    {
     "data": {
      "image/png": "[encoded data removed]",
      "text/plain": [
       "<Figure size 432x288 with 2 Axes>"
      ]
     },
     "metadata": {
      "needs_background": "light"
     },
     "output_type": "display_data"
    }
   ],
   "source": [
    "print(\"AdaBoost, raw variables\")\n",
    "get_metrics(X_train_1, Y_train_1, X_test_1, Y_test_1, adaboost_1)"
   ]
  },
  {
   "cell_type": "code",
   "execution_count": 34,
   "metadata": {},
   "outputs": [
    {
     "name": "stdout",
     "output_type": "stream",
     "text": [
      "XGBoost, raw variables\n",
      "    f1-score on train set :  0.7734968670843888\n",
      "    f1-score on test set :  0.7539015606242498\n",
      "\n",
      "    precision_score on train set :  0.8605754968851973\n",
      "    precision_score on test set :  0.839572192513369\n",
      "\n",
      "    recall_score on train set :  0.7024213075060532\n",
      "    recall_score on test set :  0.6840958605664488\n",
      "\n",
      "    Confusion matrix on train set : \n",
      "\n"
     ]
    },
    {
     "data": {
      "image/png": "[encoded data removed]",
      "text/plain": [
       "<Figure size 432x288 with 2 Axes>"
      ]
     },
     "metadata": {
      "needs_background": "light"
     },
     "output_type": "display_data"
    }
   ],
   "source": [
    "print(\"XGBoost, raw variables\")\n",
    "get_metrics(X_train_1, Y_train_1, X_test_1, Y_test_1, xgb_1)"
   ]
  },
  {
   "cell_type": "code",
   "execution_count": 35,
   "metadata": {},
   "outputs": [
    {
     "name": "stdout",
     "output_type": "stream",
     "text": [
      "Gridsearched forest, raw variables\n",
      "    f1-score on train set :  0.7672888411440849\n",
      "    f1-score on test set :  0.7563329312424607\n",
      "\n",
      "    precision_score on train set :  0.861320470304492\n",
      "    precision_score on test set :  0.8472972972972973\n",
      "\n",
      "    recall_score on train set :  0.6917675544794188\n",
      "    recall_score on test set :  0.6830065359477124\n",
      "\n",
      "    Confusion matrix on train set : \n",
      "\n"
     ]
    },
    {
     "data": {
      "image/png": "[encoded data removed]",
      "text/plain": [
       "<Figure size 432x288 with 2 Axes>"
      ]
     },
     "metadata": {
      "needs_background": "light"
     },
     "output_type": "display_data"
    }
   ],
   "source": [
    "print(\"Gridsearched forest, raw variables\")\n",
    "get_metrics(X_train_1, Y_train_1, X_test_1, Y_test_1, gridsearch_forest)"
   ]
  },
  {
   "cell_type": "code",
   "execution_count": 43,
   "metadata": {},
   "outputs": [
    {
     "name": "stdout",
     "output_type": "stream",
     "text": [
      "Voting, raw variables\n",
      "    f1-score on train set :  0.7846627408993577\n",
      "    f1-score on test set :  0.7534659433393611\n",
      "\n",
      "    precision_score on train set :  0.8771693596648713\n",
      "    precision_score on test set :  0.8434547908232118\n",
      "\n",
      "    recall_score on train set :  0.7098062953995158\n",
      "    recall_score on test set :  0.6808278867102396\n",
      "\n",
      "    Confusion matrix on train set : \n",
      "\n"
     ]
    },
    {
     "data": {
      "image/png": "[encoded data removed]",
      "text/plain": [
       "<Figure size 432x288 with 2 Axes>"
      ]
     },
     "metadata": {
      "needs_background": "light"
     },
     "output_type": "display_data"
    }
   ],
   "source": [
    "print(\"Voting, raw variables\")\n",
    "get_metrics(X_train_1, Y_train_1, X_test_1, Y_test_1, vote_1)"
   ]
  },
  {
   "cell_type": "markdown",
   "metadata": {
    "colab_type": "text",
    "id": "6tVVDRABv91O"
   },
   "source": [
    "# Train best classifier on all data and use it to make predictions on X_without_labels\n",
    "**Before making predictions on the file conversion_data_test.csv, let's train our model on ALL the data that was in conversion_data_train.csv. Sometimes, this allows to make tiny improvements in the score because we're using more examples to train the model.**"
   ]
  },
  {
   "cell_type": "code",
   "execution_count": null,
   "metadata": {},
   "outputs": [],
   "source": [
    "def create_prediction(features_list, X_train, X_test, Y_train, Y_test, preprocessor, classifier, classifier_name):\n",
    "    # Concatenate our train and test set to train the classifier on all data with labels\n",
    "    X = np.append(X_train, X_test, axis=0)\n",
    "    Y = np.append(Y_train, Y_test)\n",
    "    classifier.fit(X,Y)\n",
    "    \n",
    "    # Read data without labels\n",
    "    data_without_labels = pd.read_csv('conversion_data_test.csv')\n",
    "    print('Prediction set (without labels) :', data_without_labels.shape)\n",
    "\n",
    "    # Warning : check consistency of features_list (must be the same than the features \n",
    "    # used by the classifier)\n",
    "    X_without_labels = data_without_labels.loc[:, features_list]\n",
    "\n",
    "    # Convert pandas DataFrames to numpy arrays before using scikit-learn\n",
    "    print(\"Convert pandas DataFrames to numpy arrays...\")\n",
    "    X_without_labels = X_without_labels.values\n",
    "    print(\"...Done\")\n",
    "    print(X_without_labels[0:5,:])\n",
    "    X_without_labels = preprocessor.transform(X_without_labels)\n",
    "    \n",
    "    # Make predictions and dump to file\n",
    "    # WARNING : MAKE SURE THE FILE IS A CSV WITH ONE COLUMN NAMED 'converted' AND NO INDEX !\n",
    "    # WARNING : FILE NAME MUST HAVE FORMAT 'conversion_data_test_predictions_[name].csv'\n",
    "    # where [name] is the name of your team/model separated by a '-'\n",
    "    # For example : [name] = AURELIE-model1\n",
    "    data = {\n",
    "        'converted': classifier.predict(X_without_labels)\n",
    "    }\n",
    "\n",
    "    Y_predictions = pd.DataFrame(columns=['converted'],data=data)\n",
    "    Y_predictions.to_csv(f\"conversion_data_test_predictions_{classifier_name}-quentin.csv\", index=False)\n",
    "    \n"
   ]
  },
  {
   "cell_type": "markdown",
   "metadata": {},
   "source": [
    "Baseline model for first submission, to make sure our pipeline is ok."
   ]
  },
  {
   "cell_type": "code",
   "execution_count": null,
   "metadata": {},
   "outputs": [],
   "source": [
    "# Baseline model prediction, used to test submission pipeline early\n",
    "create_prediction(features_list_0, X_train_0, X_test_0, Y_train_0, Y_test_0, preprocessor_0, logistic_0, \"v0\")"
   ]
  },
  {
   "cell_type": "markdown",
   "metadata": {},
   "source": [
    "Best model predictions"
   ]
  },
  {
   "cell_type": "code",
   "execution_count": null,
   "metadata": {},
   "outputs": [],
   "source": [
    "# Best model prediction, for final submission\n",
    "create_prediction(features_list_1, X_train_1, X_test_1, Y_train_1, Y_test_1, preprocessor_1, logistic_1, \"v1\")"
   ]
  },
  {
   "cell_type": "markdown",
   "metadata": {},
   "source": [
    "## Analyzing the coefficients and interpreting the result\n",
    "Let's compare the coefficients for logistic regressions between models using age or age_log"
   ]
  },
  {
   "cell_type": "code",
   "execution_count": 61,
   "metadata": {},
   "outputs": [],
   "source": [
    "# Prints the coefficients given to each feature by a model\n",
    "def print_coef(name, coef):\n",
    "    coef_names = [\"country_0\", \"country_1\", \"country_1\", \"age      \", \"new_user \", \"source_0 \", \"source_1 \", \"tot_pg_vs\"]\n",
    "    print(f\"{name} coefficients:\")\n",
    "    for i in range(len(coef[0])):\n",
    "        print(f\"    {coef_names[i]}: {coef[0][i]}\")"
   ]
  },
  {
   "cell_type": "code",
   "execution_count": 65,
   "metadata": {},
   "outputs": [
    {
     "name": "stdout",
     "output_type": "stream",
     "text": [
      "Logisitic regression coefficients:\n",
      "    country_0: -0.6165124636125281\n",
      "    country_1: 2.5397762458750925\n",
      "    country_1: 3.614090971456287\n",
      "    age      : 3.4178952874545168\n",
      "    new_user : 3.088186849336254\n",
      "    source_0 : -1.7146064612158753\n",
      "    source_1 : -0.24033968308929188\n",
      "    tot_pg_vs: -0.05323535083584343\n",
      "\n",
      "Logisitic r with age_log coefficients:\n",
      "    country_0: -0.5699951009860461\n",
      "    country_1: 2.540883737824318\n",
      "    country_1: 3.6181775443699338\n",
      "    age      : 3.4223400573858185\n",
      "    new_user : 3.0917107282279757\n",
      "    source_0 : -1.7160957480170982\n",
      "    source_1 : -0.24118867797091761\n",
      "    tot_pg_vs: -0.05462290137058657\n"
     ]
    }
   ],
   "source": [
    "print_coef(\"Logisitic regression\", logistic_1.coef_)\n",
    "print_coef(\"\\nLogisitic r with age_log\", logistic_2.coef_)"
   ]
  },
  {
   "cell_type": "markdown",
   "metadata": {},
   "source": [
    "We don't see a big difference depending on the features choice. Nevertheless doing more feature engineering is probably the key to improve performance here. Since most of the algorithms we tried gave similar performance, further investigations on the data itself would be needed to understand customers behaviour."
   ]
  }
 ],
 "metadata": {
  "colab": {
   "collapsed_sections": [],
   "name": "Projets_template.ipynb",
   "provenance": []
  },
  "kernelspec": {
   "display_name": "Python 3 (ipykernel)",
   "language": "python",
   "name": "python3"
  },
  "language_info": {
   "codemirror_mode": {
    "name": "ipython",
    "version": 3
   },
   "file_extension": ".py",
   "mimetype": "text/x-python",
   "name": "python",
   "nbconvert_exporter": "python",
   "pygments_lexer": "ipython3",
   "version": "3.9.7"
  }
 },
 "nbformat": 4,
 "nbformat_minor": 4
}
